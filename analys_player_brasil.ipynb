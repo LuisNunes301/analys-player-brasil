{
  "nbformat": 4,
  "nbformat_minor": 0,
  "metadata": {
    "colab": {
      "provenance": [],
      "collapsed_sections": [
        "6PKQ9Rfv8NNf",
        "b4Iz758DLGIj",
        "2i2E4KzJKVtp",
        "vY5y8RQwrGM4",
        "2bfUH7YjsU2v",
        "QjxLtmK6I6GQ",
        "kJacjpSHFMUV",
        "zKxbZhygsfEv",
        "m1EYHbBosMmR"
      ]
    },
    "kernelspec": {
      "name": "python3",
      "display_name": "Python 3"
    },
    "language_info": {
      "name": "python"
    }
  },
  "cells": [
    {
      "cell_type": "markdown",
      "source": [
        "# Analise dos atacantes brasileiros para copa de 2022.\n",
        "\n",
        "<center><img src=\"https://upload.wikimedia.org/wikipedia/pt/thumb/e/e3/2022_FIFA_World_Cup.svg/200px-2022_FIFA_World_Cup.svg.png\"\n",
        "      width=\"200\" \n",
        "     height=\"250\"  ></center>\n",
        "\n",
        "A cada 4 anos na humanidade, ocorre o maior evento de competição esportiva relacionada ao futebol, **Copa do Mundo**, sendo organizado pela Federação Internacional de Futebol (FIFA). Este ano, será mais uma chance da seleção brasileira se empenhar a buscar o hexa campeonato.\n",
        "\n",
        "Para entender-mos melhor como funciona a copa do mundo, a pos eliminatorias separadas por regiões do mundo( Europeias, Sulamericas, Oceania, COCOAF-America central e America do norte e o Caribe,Africana, Asiatica), os melhores seleções das regiões ,entrão em um formato de 4 seleções por grupo, sendo 8 grupos no total.\n",
        "\n",
        "O Brasil está situado no grupo G formado: Brasil, Servia, Suíça,Camarões. Passam se dois time por grupo , fazendo oitavas de finais e assim sussecivamente.\n",
        "<center><img src=\"https://midias.correiobraziliense.com.br/_midias/jpg/2022/04/01/copa_do_mundo_2022_grupo_g-7685464.jpeg\"\n",
        "      width=\"250\" \n",
        "     height=\"150\"  ></center>\n",
        "\n",
        "Mas por que a copa do mundo é o objetivo central desse artigo? Como já foi dito, o fator é de ele ser simplesmente o maior evento de competição do mundo do futebol, e o pais que o mais ganhador é o brasil, **Obtendo 5 copas do mundo**, onde eu quem vos fala moro, logo faz parte de nossa vida. E por fim, estou me dando ao trabalho de analisar os atacantes da seleção brasileira.\n"
      ],
      "metadata": {
        "id": "bZ3OI1rF2_2b"
      }
    },
    {
      "cell_type": "markdown",
      "source": [
        "# Busca pelos dados dos jogadores em seus clubes.\n",
        "\n",
        "\n"
      ],
      "metadata": {
        "id": "6PKQ9Rfv8NNf"
      }
    },
    {
      "cell_type": "markdown",
      "source": [
        "Como analisar o jogador é algo muito relativo, pois há varias nuancias que o jogo se impostam ao jogo de futebol e ao proprio em si jogador. "
      ],
      "metadata": {
        "id": "PkdAr4BJlfhU"
      }
    },
    {
      "cell_type": "markdown",
      "source": [
        "A parti desse codigo , consumi a api, e me vi em uma dura realidade de não ter que fazer uma aplicação que consuma-a , pois o tempo de resposta ficaria com muita latencia,e o meu objetivo principal é analisar os dados que os jogadores fizeram na temporada 20/21 , com isso faz que eu analise, trate e faça ponderaçoes ,sobre o impactado deles em seus clubes e na seleção."
      ],
      "metadata": {
        "id": "3KxYLgMl-CtJ"
      }
    },
    {
      "cell_type": "code",
      "source": [
        "#importando requests para consumir a api.\n",
        "import requests\n",
        "\n",
        "## Este é um pequeno codigo de como eu busquei os dados dos jogadores na api em seus clube.\n",
        "## Para não ficar repetitivo , o codigo dos dados na seleção será ocutado, porem é o mesmo processo.\n",
        "\n",
        "#setando os arquivos para facilitar na obtenção de dados\n",
        "viniStats = open(\"data_vini.json\",\"w\")\n",
        "neyStats = open(\"data_ney.json\",\"w\")\n",
        "gabiStats = open(\"data_gabi.json\",\"w\")\n",
        "jesusStats = open(\"data_jesus.json\",\"w\")\n",
        "pedroStats = open(\"data_pedro.json\",\"w\")\n",
        "raphaStats = open(\"data_rapha.json\",\"w\")\n",
        "antonyStats = open(\"data_antony.json\",\"w\")\n",
        "\n",
        "#url da api em variavel.\n",
        "url = \"https://divanscore.p.rapidapi.com/players/get-statistics\"\n",
        "\n",
        "# variaveis para obtenção dos dados dos jogadores.\n",
        "vini_stats = {\"playerId\":\"868812\",\"tournamentId\":\"8\",\"seasonId\":\"37223\",\"type\":\"overall\"}\n",
        "neymar_stats = {\"playerId\":\"124712\",\"tournamentId\":\"34\",\"seasonId\":\"37167\",\"type\":\"overall\"}\n",
        "gabriel_stats = {\"playerId\":\"794839\",\"tournamentId\":\"17\",\"seasonId\":\"37036\",\"type\":\"overall\"}\n",
        "antony_stats = {\"playerId\":\"958380\",\"tournamentId\":\"37\",\"seasonId\":\"36890\",\"type\":\"overall\"}\n",
        "pedro_stats = {\"playerId\":\"840219\",\"tournamentId\":\"325\",\"seasonId\":\"36166\",\"type\":\"overall\"}\n",
        "gabi_stats = {\"playerId\":\"358554\",\"tournamentId\":\"325\",\"seasonId\":\"36166\",\"type\":\"overall\"}\n",
        "raphinha_stats = {\"playerId\":\"831005\",\"tournamentId\":\"17\",\"seasonId\":\"37036\",\"type\":\"overall\"}\n",
        "\n",
        "\n",
        "headers = {\n",
        "\t\"X-RapidAPI-Key\": \"87a1ec80b7msh6ebcac9aab37d7bp1d8a4ajsn1b11258ba03d\",\n",
        "\t\"X-RapidAPI-Host\": \"divanscore.p.rapidapi.com\"\n",
        "}\n",
        "\n",
        "#resposta para meu resquests se baseando em cada jogador\n",
        "response = requests.request(\"GET\", url, headers=headers, params=vini_stats)\n",
        "response2 = requests.request(\"GET\", url, headers=headers, params=neymar_stats)\n",
        "response3 = requests.request(\"GET\", url, headers=headers, params=gabi_stats)\n",
        "response4 = requests.request(\"GET\", url, headers=headers, params=gabriel_stats)\n",
        "response5 = requests.request(\"GET\", url, headers=headers, params=antony_stats)\n",
        "response6 = requests.request(\"GET\", url, headers=headers, params=raphinha_stats)\n",
        "response7 = requests.request(\"GET\", url, headers=headers, params=pedro_stats)\n",
        "\n",
        "#Por fim, como não quero usar a api na minha teoria ,por simplesmente não ter nada interativo,mas sim algo que eu consiga depois, com o pandas tratar os dados necessarios, sem ter que fazer requisição a toda hora.\n",
        "#Basicamento o que foi feito é pegar da api e escrever em arquivos para depois tratar em um arquivo.\n",
        "viniStats.write(response.text)\n",
        "viniStats.close()\n",
        "#Daqui para frente fiz com todos os outros jogadores.\n",
        "#Finalmente irei tratar os dados necessarios para a minha tese, criando um arquivo novo.\n"
      ],
      "metadata": {
        "id": "lVU3wDae8geg"
      },
      "execution_count": null,
      "outputs": []
    },
    {
      "cell_type": "markdown",
      "source": [
        "# Tratamento dos dados selecionado para o projeto.\n",
        "\n"
      ],
      "metadata": {
        "id": "8NdOtuC-Xc7z"
      }
    },
    {
      "cell_type": "markdown",
      "source": [
        "Abaixo segue o modelo do arquivo .json que foi tratado a mão, pois é uma melhor visualização dos dados comparado do arquivo base da api, que contem muito mais dados e não é a melhor forma de separar os dados para o projeto."
      ],
      "metadata": {
        "id": "NDxW7AlklimI"
      }
    },
    {
      "cell_type": "code",
      "source": [
        "#Pedaço do arquivo que será usado para conferir a tese.\n",
        "{\n",
        "    \"totalRatingBySofascore\": {\n",
        "        \"pedro\": 6.86,\n",
        "        \"vini\": 7.35,\n",
        "        \"gabigol\": 7.20,\n",
        "        \"neymar\": 7.46,\n",
        "        \"anthony\": 7.43,\n",
        "        \"raphinha\": 6.96,\n",
        "        \"jesus\": 7.18\n",
        "    }\n",
        " "
      ],
      "metadata": {
        "id": "ZIxlkEvtYThb"
      },
      "execution_count": null,
      "outputs": []
    },
    {
      "cell_type": "markdown",
      "source": [
        "Para uma melhor visualização de quais tipos de dados serão usados neste projeto, segue em codigo:"
      ],
      "metadata": {
        "id": "FSshlNqUa5ve"
      }
    },
    {
      "cell_type": "code",
      "source": [
        "import pandas as pd\n",
        "import numpy\n",
        "\n",
        "ply = pd.read_json('https://raw.githubusercontent.com/LuisNunes301/analys-player-brasil/main/stats_players.json')\n",
        "\n",
        "ply.dtypes\n"
      ],
      "metadata": {
        "colab": {
          "base_uri": "https://localhost:8080/"
        },
        "id": "hu6L1dj9bC6X",
        "outputId": "65a9182d-1b4d-49dc-9320-2134fd68191a"
      },
      "execution_count": 2,
      "outputs": [
        {
          "output_type": "execute_result",
          "data": {
            "text/plain": [
              "totalRatingBySofascore    float64\n",
              "appearence                  int64\n",
              "goals                       int64\n",
              "assist                      int64\n",
              "start                       int64\n",
              "bigChancesCreated           int64\n",
              "succDribbles                int64\n",
              "totalDuelWon                int64\n",
              "bestInMatch                 int64\n",
              "dtype: object"
            ]
          },
          "metadata": {},
          "execution_count": 2
        }
      ]
    },
    {
      "cell_type": "markdown",
      "source": [
        "Para fim, segue a tabela do arquivo completo."
      ],
      "metadata": {
        "id": "h9GSmDZsb-M2"
      }
    },
    {
      "cell_type": "code",
      "source": [
        "ply.head(10)"
      ],
      "metadata": {
        "colab": {
          "base_uri": "https://localhost:8080/",
          "height": 269
        },
        "id": "hvG-6-SWcCgu",
        "outputId": "6242fdc8-3665-439a-899d-1ea28c5376d8"
      },
      "execution_count": null,
      "outputs": [
        {
          "output_type": "execute_result",
          "data": {
            "text/plain": [
              "          totalRatingBySofascore  appearence  goals  assist  start  \\\n",
              "pedro                       6.86          24      7       5     15   \n",
              "vini                        7.35          35     17      10     30   \n",
              "gabigol                     7.20          18     12       5     18   \n",
              "neymar                      7.46          22     13       6     22   \n",
              "anthony                     7.43          23      8       4     21   \n",
              "raphinha                    6.96          35     11       1     34   \n",
              "jesus                       7.18          28      8       8     21   \n",
              "\n",
              "          bigChancesCreated  succDribbles  totalDuelWon  bestInMatch  \n",
              "pedro                     4            15            69            0  \n",
              "vini                     13            95           218            8  \n",
              "gabigol                   7             8            28            3  \n",
              "neymar                   15            58           162            4  \n",
              "anthony                   7            42           111            2  \n",
              "raphinha                 10            62           182            2  \n",
              "jesus                     8            46           111            3  "
            ],
            "text/html": [
              "\n",
              "  <div id=\"df-28420f10-2191-42c9-9ec5-661fd6d64c52\">\n",
              "    <div class=\"colab-df-container\">\n",
              "      <div>\n",
              "<style scoped>\n",
              "    .dataframe tbody tr th:only-of-type {\n",
              "        vertical-align: middle;\n",
              "    }\n",
              "\n",
              "    .dataframe tbody tr th {\n",
              "        vertical-align: top;\n",
              "    }\n",
              "\n",
              "    .dataframe thead th {\n",
              "        text-align: right;\n",
              "    }\n",
              "</style>\n",
              "<table border=\"1\" class=\"dataframe\">\n",
              "  <thead>\n",
              "    <tr style=\"text-align: right;\">\n",
              "      <th></th>\n",
              "      <th>totalRatingBySofascore</th>\n",
              "      <th>appearence</th>\n",
              "      <th>goals</th>\n",
              "      <th>assist</th>\n",
              "      <th>start</th>\n",
              "      <th>bigChancesCreated</th>\n",
              "      <th>succDribbles</th>\n",
              "      <th>totalDuelWon</th>\n",
              "      <th>bestInMatch</th>\n",
              "    </tr>\n",
              "  </thead>\n",
              "  <tbody>\n",
              "    <tr>\n",
              "      <th>pedro</th>\n",
              "      <td>6.86</td>\n",
              "      <td>24</td>\n",
              "      <td>7</td>\n",
              "      <td>5</td>\n",
              "      <td>15</td>\n",
              "      <td>4</td>\n",
              "      <td>15</td>\n",
              "      <td>69</td>\n",
              "      <td>0</td>\n",
              "    </tr>\n",
              "    <tr>\n",
              "      <th>vini</th>\n",
              "      <td>7.35</td>\n",
              "      <td>35</td>\n",
              "      <td>17</td>\n",
              "      <td>10</td>\n",
              "      <td>30</td>\n",
              "      <td>13</td>\n",
              "      <td>95</td>\n",
              "      <td>218</td>\n",
              "      <td>8</td>\n",
              "    </tr>\n",
              "    <tr>\n",
              "      <th>gabigol</th>\n",
              "      <td>7.20</td>\n",
              "      <td>18</td>\n",
              "      <td>12</td>\n",
              "      <td>5</td>\n",
              "      <td>18</td>\n",
              "      <td>7</td>\n",
              "      <td>8</td>\n",
              "      <td>28</td>\n",
              "      <td>3</td>\n",
              "    </tr>\n",
              "    <tr>\n",
              "      <th>neymar</th>\n",
              "      <td>7.46</td>\n",
              "      <td>22</td>\n",
              "      <td>13</td>\n",
              "      <td>6</td>\n",
              "      <td>22</td>\n",
              "      <td>15</td>\n",
              "      <td>58</td>\n",
              "      <td>162</td>\n",
              "      <td>4</td>\n",
              "    </tr>\n",
              "    <tr>\n",
              "      <th>anthony</th>\n",
              "      <td>7.43</td>\n",
              "      <td>23</td>\n",
              "      <td>8</td>\n",
              "      <td>4</td>\n",
              "      <td>21</td>\n",
              "      <td>7</td>\n",
              "      <td>42</td>\n",
              "      <td>111</td>\n",
              "      <td>2</td>\n",
              "    </tr>\n",
              "    <tr>\n",
              "      <th>raphinha</th>\n",
              "      <td>6.96</td>\n",
              "      <td>35</td>\n",
              "      <td>11</td>\n",
              "      <td>1</td>\n",
              "      <td>34</td>\n",
              "      <td>10</td>\n",
              "      <td>62</td>\n",
              "      <td>182</td>\n",
              "      <td>2</td>\n",
              "    </tr>\n",
              "    <tr>\n",
              "      <th>jesus</th>\n",
              "      <td>7.18</td>\n",
              "      <td>28</td>\n",
              "      <td>8</td>\n",
              "      <td>8</td>\n",
              "      <td>21</td>\n",
              "      <td>8</td>\n",
              "      <td>46</td>\n",
              "      <td>111</td>\n",
              "      <td>3</td>\n",
              "    </tr>\n",
              "  </tbody>\n",
              "</table>\n",
              "</div>\n",
              "      <button class=\"colab-df-convert\" onclick=\"convertToInteractive('df-28420f10-2191-42c9-9ec5-661fd6d64c52')\"\n",
              "              title=\"Convert this dataframe to an interactive table.\"\n",
              "              style=\"display:none;\">\n",
              "        \n",
              "  <svg xmlns=\"http://www.w3.org/2000/svg\" height=\"24px\"viewBox=\"0 0 24 24\"\n",
              "       width=\"24px\">\n",
              "    <path d=\"M0 0h24v24H0V0z\" fill=\"none\"/>\n",
              "    <path d=\"M18.56 5.44l.94 2.06.94-2.06 2.06-.94-2.06-.94-.94-2.06-.94 2.06-2.06.94zm-11 1L8.5 8.5l.94-2.06 2.06-.94-2.06-.94L8.5 2.5l-.94 2.06-2.06.94zm10 10l.94 2.06.94-2.06 2.06-.94-2.06-.94-.94-2.06-.94 2.06-2.06.94z\"/><path d=\"M17.41 7.96l-1.37-1.37c-.4-.4-.92-.59-1.43-.59-.52 0-1.04.2-1.43.59L10.3 9.45l-7.72 7.72c-.78.78-.78 2.05 0 2.83L4 21.41c.39.39.9.59 1.41.59.51 0 1.02-.2 1.41-.59l7.78-7.78 2.81-2.81c.8-.78.8-2.07 0-2.86zM5.41 20L4 18.59l7.72-7.72 1.47 1.35L5.41 20z\"/>\n",
              "  </svg>\n",
              "      </button>\n",
              "      \n",
              "  <style>\n",
              "    .colab-df-container {\n",
              "      display:flex;\n",
              "      flex-wrap:wrap;\n",
              "      gap: 12px;\n",
              "    }\n",
              "\n",
              "    .colab-df-convert {\n",
              "      background-color: #E8F0FE;\n",
              "      border: none;\n",
              "      border-radius: 50%;\n",
              "      cursor: pointer;\n",
              "      display: none;\n",
              "      fill: #1967D2;\n",
              "      height: 32px;\n",
              "      padding: 0 0 0 0;\n",
              "      width: 32px;\n",
              "    }\n",
              "\n",
              "    .colab-df-convert:hover {\n",
              "      background-color: #E2EBFA;\n",
              "      box-shadow: 0px 1px 2px rgba(60, 64, 67, 0.3), 0px 1px 3px 1px rgba(60, 64, 67, 0.15);\n",
              "      fill: #174EA6;\n",
              "    }\n",
              "\n",
              "    [theme=dark] .colab-df-convert {\n",
              "      background-color: #3B4455;\n",
              "      fill: #D2E3FC;\n",
              "    }\n",
              "\n",
              "    [theme=dark] .colab-df-convert:hover {\n",
              "      background-color: #434B5C;\n",
              "      box-shadow: 0px 1px 3px 1px rgba(0, 0, 0, 0.15);\n",
              "      filter: drop-shadow(0px 1px 2px rgba(0, 0, 0, 0.3));\n",
              "      fill: #FFFFFF;\n",
              "    }\n",
              "  </style>\n",
              "\n",
              "      <script>\n",
              "        const buttonEl =\n",
              "          document.querySelector('#df-28420f10-2191-42c9-9ec5-661fd6d64c52 button.colab-df-convert');\n",
              "        buttonEl.style.display =\n",
              "          google.colab.kernel.accessAllowed ? 'block' : 'none';\n",
              "\n",
              "        async function convertToInteractive(key) {\n",
              "          const element = document.querySelector('#df-28420f10-2191-42c9-9ec5-661fd6d64c52');\n",
              "          const dataTable =\n",
              "            await google.colab.kernel.invokeFunction('convertToInteractive',\n",
              "                                                     [key], {});\n",
              "          if (!dataTable) return;\n",
              "\n",
              "          const docLinkHtml = 'Like what you see? Visit the ' +\n",
              "            '<a target=\"_blank\" href=https://colab.research.google.com/notebooks/data_table.ipynb>data table notebook</a>'\n",
              "            + ' to learn more about interactive tables.';\n",
              "          element.innerHTML = '';\n",
              "          dataTable['output_type'] = 'display_data';\n",
              "          await google.colab.output.renderOutput(dataTable, element);\n",
              "          const docLink = document.createElement('div');\n",
              "          docLink.innerHTML = docLinkHtml;\n",
              "          element.appendChild(docLink);\n",
              "        }\n",
              "      </script>\n",
              "    </div>\n",
              "  </div>\n",
              "  "
            ]
          },
          "metadata": {},
          "execution_count": 32
        }
      ]
    },
    {
      "cell_type": "markdown",
      "source": [
        "Então, por fim temos nossas chaves e seus resultados, se baseando em cada atributo de seus respectivos jogadores.\n",
        "Agora iremos entender o que cada um deles representa.\n",
        "  ###### Tabela das variaveis:\n",
        "  1. totalRatingBySofascore = ranquemento em numero, baseado em uma formula do sofacore para fim de representar a media de bons numeros do jogador por partida.\n",
        "  2. appearence = Jogos que o jogador , em especifico jogou na temporada\n",
        "  3. goals = Gols do jogador.\n",
        "  4. start = Jogos que o jogador, começou desde o primeiro minuto.\n",
        "  5. assist = Assistencia a gols que o jogador deu ao companheiro de equipe.\n",
        "  6. bigChancesCreated = Grandes chances no jogo criada, que possam ser ou não ter sido resultado em um gol, mas sim algo claro que poderia ser convertido.\n",
        "  7. succDribbles = Sucesso de dribles do jogador ,em cima de outros adversario.\n",
        "  8. totalDuelWon = Duelos que o jogador ganhou ,sobre outro adversario.\n",
        "  9. bestInMatch = Melhor em campo."
      ],
      "metadata": {
        "id": "R-rkvBrfbgp1"
      }
    },
    {
      "cell_type": "markdown",
      "source": [
        "# Analise dos dados dos jogadores.\n",
        "\n"
      ],
      "metadata": {
        "id": "WaP2NpzSkkS6"
      }
    },
    {
      "cell_type": "markdown",
      "source": [
        "### 1 - Copia do dataFrame original."
      ],
      "metadata": {
        "id": "b4Iz758DLGIj"
      }
    },
    {
      "cell_type": "markdown",
      "source": [
        "Conforme, a analise fiz a escolha de copiar o meu data frame principal, e caso eu tenha que mexer em algo, não precisarei ter que ficar fazendo backUps, e sim só replicar e editar da melhor maneira conveiente. "
      ],
      "metadata": {
        "id": "buimIalFK6xE"
      }
    },
    {
      "cell_type": "code",
      "source": [
        "# Criando uma copia do dataFrame original , com intuito de se houve uma mudança não perder tudo.\n",
        "plyCopy = ply.copy()"
      ],
      "metadata": {
        "id": "1AreygLjoFen"
      },
      "execution_count": 3,
      "outputs": []
    },
    {
      "cell_type": "markdown",
      "source": [
        "### 2 - Em topicos os principais graficos dos dados selecionados, com intuito de explicitar o melhor jogador entre eles.\n"
      ],
      "metadata": {
        "id": "alJaCjcypEiR"
      }
    },
    {
      "cell_type": "markdown",
      "source": [
        "#####     Media de gols por partida dos jogadores selecionados na temporada de 21/22."
      ],
      "metadata": {
        "id": "2i2E4KzJKVtp"
      }
    },
    {
      "cell_type": "code",
      "source": [
        "# Tratei de fazer a media de cada jogador para facilitar uma construção de um novo df.\n",
        "\n",
        "mdVi= numpy.divide(plyCopy['goals']['vini'],plyCopy['appearence']['vini'])\n",
        "mdPe = numpy.divide(plyCopy['goals']['pedro'],plyCopy['appearence']['pedro'])\n",
        "mdRa = numpy.divide(plyCopy['goals']['raphinha'],plyCopy['appearence']['raphinha']) \n",
        "mdJe = numpy.divide(plyCopy['goals']['jesus'],plyCopy['appearence']['jesus']) \n",
        "mdAnt = numpy.divide(plyCopy['goals']['anthony'],plyCopy['appearence']['anthony'])\n",
        "mdGab = numpy.divide(plyCopy['goals']['gabigol'], plyCopy['appearence']['gabigol'])\n",
        "mdNey = numpy.divide(plyCopy['goals']['neymar'],plyCopy['appearence']['neymar'])\n"
      ],
      "metadata": {
        "id": "s9C_Ppljp60p"
      },
      "execution_count": 4,
      "outputs": []
    },
    {
      "cell_type": "code",
      "source": [
        "# X Jogadores.\n",
        "x = ['Antony','Gabigol','Neymar','Pedro','Rapha','Jesus', 'Vini']\n",
        "# Y x.G de cada jogador.\n",
        "y = [mdAnt,mdGab,mdNey,mdPe,mdRa,mdJe,mdVi]\n",
        "\n",
        "dfMediaXg = pd.DataFrame({'Jogadores brasileiros':x,'media x.G/p':y})\n",
        "dfMediaXg"
      ],
      "metadata": {
        "colab": {
          "base_uri": "https://localhost:8080/",
          "height": 269
        },
        "id": "7K8PjwiMp8-X",
        "outputId": "f66cf04d-f154-4c62-f558-d3a91eb55d11"
      },
      "execution_count": 5,
      "outputs": [
        {
          "output_type": "execute_result",
          "data": {
            "text/plain": [
              "  Jogadores brasileiros  media x.G/p\n",
              "0                Antony     0.347826\n",
              "1               Gabigol     0.666667\n",
              "2                Neymar     0.590909\n",
              "3                 Pedro     0.291667\n",
              "4                 Rapha     0.314286\n",
              "5                 Jesus     0.285714\n",
              "6                  Vini     0.485714"
            ],
            "text/html": [
              "\n",
              "  <div id=\"df-81e81780-bb64-4891-8d84-87fc6095c360\">\n",
              "    <div class=\"colab-df-container\">\n",
              "      <div>\n",
              "<style scoped>\n",
              "    .dataframe tbody tr th:only-of-type {\n",
              "        vertical-align: middle;\n",
              "    }\n",
              "\n",
              "    .dataframe tbody tr th {\n",
              "        vertical-align: top;\n",
              "    }\n",
              "\n",
              "    .dataframe thead th {\n",
              "        text-align: right;\n",
              "    }\n",
              "</style>\n",
              "<table border=\"1\" class=\"dataframe\">\n",
              "  <thead>\n",
              "    <tr style=\"text-align: right;\">\n",
              "      <th></th>\n",
              "      <th>Jogadores brasileiros</th>\n",
              "      <th>media x.G/p</th>\n",
              "    </tr>\n",
              "  </thead>\n",
              "  <tbody>\n",
              "    <tr>\n",
              "      <th>0</th>\n",
              "      <td>Antony</td>\n",
              "      <td>0.347826</td>\n",
              "    </tr>\n",
              "    <tr>\n",
              "      <th>1</th>\n",
              "      <td>Gabigol</td>\n",
              "      <td>0.666667</td>\n",
              "    </tr>\n",
              "    <tr>\n",
              "      <th>2</th>\n",
              "      <td>Neymar</td>\n",
              "      <td>0.590909</td>\n",
              "    </tr>\n",
              "    <tr>\n",
              "      <th>3</th>\n",
              "      <td>Pedro</td>\n",
              "      <td>0.291667</td>\n",
              "    </tr>\n",
              "    <tr>\n",
              "      <th>4</th>\n",
              "      <td>Rapha</td>\n",
              "      <td>0.314286</td>\n",
              "    </tr>\n",
              "    <tr>\n",
              "      <th>5</th>\n",
              "      <td>Jesus</td>\n",
              "      <td>0.285714</td>\n",
              "    </tr>\n",
              "    <tr>\n",
              "      <th>6</th>\n",
              "      <td>Vini</td>\n",
              "      <td>0.485714</td>\n",
              "    </tr>\n",
              "  </tbody>\n",
              "</table>\n",
              "</div>\n",
              "      <button class=\"colab-df-convert\" onclick=\"convertToInteractive('df-81e81780-bb64-4891-8d84-87fc6095c360')\"\n",
              "              title=\"Convert this dataframe to an interactive table.\"\n",
              "              style=\"display:none;\">\n",
              "        \n",
              "  <svg xmlns=\"http://www.w3.org/2000/svg\" height=\"24px\"viewBox=\"0 0 24 24\"\n",
              "       width=\"24px\">\n",
              "    <path d=\"M0 0h24v24H0V0z\" fill=\"none\"/>\n",
              "    <path d=\"M18.56 5.44l.94 2.06.94-2.06 2.06-.94-2.06-.94-.94-2.06-.94 2.06-2.06.94zm-11 1L8.5 8.5l.94-2.06 2.06-.94-2.06-.94L8.5 2.5l-.94 2.06-2.06.94zm10 10l.94 2.06.94-2.06 2.06-.94-2.06-.94-.94-2.06-.94 2.06-2.06.94z\"/><path d=\"M17.41 7.96l-1.37-1.37c-.4-.4-.92-.59-1.43-.59-.52 0-1.04.2-1.43.59L10.3 9.45l-7.72 7.72c-.78.78-.78 2.05 0 2.83L4 21.41c.39.39.9.59 1.41.59.51 0 1.02-.2 1.41-.59l7.78-7.78 2.81-2.81c.8-.78.8-2.07 0-2.86zM5.41 20L4 18.59l7.72-7.72 1.47 1.35L5.41 20z\"/>\n",
              "  </svg>\n",
              "      </button>\n",
              "      \n",
              "  <style>\n",
              "    .colab-df-container {\n",
              "      display:flex;\n",
              "      flex-wrap:wrap;\n",
              "      gap: 12px;\n",
              "    }\n",
              "\n",
              "    .colab-df-convert {\n",
              "      background-color: #E8F0FE;\n",
              "      border: none;\n",
              "      border-radius: 50%;\n",
              "      cursor: pointer;\n",
              "      display: none;\n",
              "      fill: #1967D2;\n",
              "      height: 32px;\n",
              "      padding: 0 0 0 0;\n",
              "      width: 32px;\n",
              "    }\n",
              "\n",
              "    .colab-df-convert:hover {\n",
              "      background-color: #E2EBFA;\n",
              "      box-shadow: 0px 1px 2px rgba(60, 64, 67, 0.3), 0px 1px 3px 1px rgba(60, 64, 67, 0.15);\n",
              "      fill: #174EA6;\n",
              "    }\n",
              "\n",
              "    [theme=dark] .colab-df-convert {\n",
              "      background-color: #3B4455;\n",
              "      fill: #D2E3FC;\n",
              "    }\n",
              "\n",
              "    [theme=dark] .colab-df-convert:hover {\n",
              "      background-color: #434B5C;\n",
              "      box-shadow: 0px 1px 3px 1px rgba(0, 0, 0, 0.15);\n",
              "      filter: drop-shadow(0px 1px 2px rgba(0, 0, 0, 0.3));\n",
              "      fill: #FFFFFF;\n",
              "    }\n",
              "  </style>\n",
              "\n",
              "      <script>\n",
              "        const buttonEl =\n",
              "          document.querySelector('#df-81e81780-bb64-4891-8d84-87fc6095c360 button.colab-df-convert');\n",
              "        buttonEl.style.display =\n",
              "          google.colab.kernel.accessAllowed ? 'block' : 'none';\n",
              "\n",
              "        async function convertToInteractive(key) {\n",
              "          const element = document.querySelector('#df-81e81780-bb64-4891-8d84-87fc6095c360');\n",
              "          const dataTable =\n",
              "            await google.colab.kernel.invokeFunction('convertToInteractive',\n",
              "                                                     [key], {});\n",
              "          if (!dataTable) return;\n",
              "\n",
              "          const docLinkHtml = 'Like what you see? Visit the ' +\n",
              "            '<a target=\"_blank\" href=https://colab.research.google.com/notebooks/data_table.ipynb>data table notebook</a>'\n",
              "            + ' to learn more about interactive tables.';\n",
              "          element.innerHTML = '';\n",
              "          dataTable['output_type'] = 'display_data';\n",
              "          await google.colab.output.renderOutput(dataTable, element);\n",
              "          const docLink = document.createElement('div');\n",
              "          docLink.innerHTML = docLinkHtml;\n",
              "          element.appendChild(docLink);\n",
              "        }\n",
              "      </script>\n",
              "    </div>\n",
              "  </div>\n",
              "  "
            ]
          },
          "metadata": {},
          "execution_count": 5
        }
      ]
    },
    {
      "cell_type": "code",
      "source": [
        "#Media dos de gols por partida dos jogadores.\n",
        "dfMediaXg.plot.scatter(title= \"x.G por Jogos temporada 21/22\",x = 'Jogadores brasileiros', y ='media x.G/p', color= 'red',figsize=(10,10))"
      ],
      "metadata": {
        "colab": {
          "base_uri": "https://localhost:8080/",
          "height": 638
        },
        "id": "bN2lnL3Yqo8O",
        "outputId": "f1d4bca2-a20e-45e3-89a3-8337b6ae0cd8"
      },
      "execution_count": null,
      "outputs": [
        {
          "output_type": "execute_result",
          "data": {
            "text/plain": [
              "<matplotlib.axes._subplots.AxesSubplot at 0x7fe777d51910>"
            ]
          },
          "metadata": {},
          "execution_count": 79
        },
        {
          "output_type": "display_data",
          "data": {
            "text/plain": [
              "<Figure size 720x720 with 1 Axes>"
            ],
            "image/png": "[encoded data removed]"
          },
          "metadata": {
            "needs_background": "light"
          }
        }
      ]
    },
    {
      "cell_type": "markdown",
      "source": [
        "Podemos vê, que o jogador Gabriel Barbosa , GabiGol se destaca em gols na temporada , porem ele tem menos jogos na temparada que o restante. Neymar vem atrás na media , mas com mais jogos e menos gols, contudo sendo impactante em seu clube."
      ],
      "metadata": {
        "id": "tEaEPFqkuoLf"
      }
    },
    {
      "cell_type": "markdown",
      "source": [
        "Este é o grafico com dados mais importante para atacantes ,em modo geral, são numeros que comprovam o impacto do atacante, como assim? Em geral, gols é o que representa para o futebol, porem uma media alta , podemos dizer 0.5 a cima podemos dizer que boa media para um atacante. "
      ],
      "metadata": {
        "id": "1_4JXNGCzDP8"
      }
    },
    {
      "cell_type": "markdown",
      "source": [
        "#####     Total de jogos que o jogadores fizeram na temporada de 21/22.\n"
      ],
      "metadata": {
        "id": "vY5y8RQwrGM4"
      }
    },
    {
      "cell_type": "code",
      "source": [
        "plyCopy['appearence'].plot.bar(title = 'Jogos na temporada 21/22')\n",
        "print(plyCopy['appearence'],'\\n\\n\\n')"
      ],
      "metadata": {
        "colab": {
          "base_uri": "https://localhost:8080/",
          "height": 507
        },
        "id": "rraEyWqlqq6-",
        "outputId": "e0c4f59f-f5d6-4e18-91a7-de1f506b1903"
      },
      "execution_count": null,
      "outputs": [
        {
          "output_type": "stream",
          "name": "stdout",
          "text": [
            "pedro       24\n",
            "vini        35\n",
            "gabigol     18\n",
            "neymar      22\n",
            "anthony     23\n",
            "raphinha    35\n",
            "jesus       28\n",
            "Name: appearence, dtype: int64 \n",
            "\n",
            "\n",
            "\n"
          ]
        },
        {
          "output_type": "display_data",
          "data": {
            "text/plain": [
              "<Figure size 432x288 with 1 Axes>"
            ],
            "image/png": "[encoded data removed]"
          },
          "metadata": {
            "needs_background": "light"
          }
        }
      ]
    },
    {
      "cell_type": "markdown",
      "source": [
        "#### Total de assistencia na temporada de 21/22.\n",
        "\n"
      ],
      "metadata": {
        "id": "2bfUH7YjsU2v"
      }
    },
    {
      "cell_type": "code",
      "source": [
        "# Total de assistencia na temporada\n",
        "plyCopy['assist'].plot.bar(title= 'Assistencias do jogadores temporada 21/22')"
      ],
      "metadata": {
        "colab": {
          "base_uri": "https://localhost:8080/",
          "height": 333
        },
        "id": "NRP9Ay1orQyP",
        "outputId": "ccae5291-8d89-40fd-dcf9-47641adb187c"
      },
      "execution_count": 6,
      "outputs": [
        {
          "output_type": "execute_result",
          "data": {
            "text/plain": [
              "<matplotlib.axes._subplots.AxesSubplot at 0x7f72d5c57090>"
            ]
          },
          "metadata": {},
          "execution_count": 6
        },
        {
          "output_type": "display_data",
          "data": {
            "text/plain": [
              "<Figure size 432x288 with 1 Axes>"
            ],
            "image/png": "[encoded data removed]"
          },
          "metadata": {
            "needs_background": "light"
          }
        }
      ]
    },
    {
      "cell_type": "markdown",
      "source": [
        "\n",
        "Como podemos perceber , Vinicius Junior e Jesus , tiveram um impacto significativo a seus clubes, com passes a gol, a assistência."
      ],
      "metadata": {
        "id": "oGID78Y_KkHB"
      }
    },
    {
      "cell_type": "markdown",
      "source": [
        "#### Rating do sofascore na temporada de 21/22.\n",
        "\n"
      ],
      "metadata": {
        "id": "QjxLtmK6I6GQ"
      }
    },
    {
      "cell_type": "markdown",
      "source": [
        "Este rating, representa a media na temporada 21/22 de cada jogador. No site em especifico , todos os rating > 7 são verdes, acima de > 8 são azulados, estes em especificos são medias de notas boas, abaixo de < 6 são represetados pela cor vermelha, dizendo assim que a condição daquela partida e/ou media da tempoarada foi a baixo do esperado."
      ],
      "metadata": {
        "id": "4xiPc_84Kp0h"
      }
    },
    {
      "cell_type": "code",
      "source": [
        "plyCopy['totalRatingBySofascore'].plot.bar(title = \"Rating baseado no sofacores\",color = 'green')"
      ],
      "metadata": {
        "colab": {
          "base_uri": "https://localhost:8080/",
          "height": 333
        },
        "id": "s4gGBU_8I59w",
        "outputId": "af60c0b5-4016-40f8-a9ff-b970676c3d18"
      },
      "execution_count": null,
      "outputs": [
        {
          "output_type": "execute_result",
          "data": {
            "text/plain": [
              "<matplotlib.axes._subplots.AxesSubplot at 0x7fe7777d3310>"
            ]
          },
          "metadata": {},
          "execution_count": 87
        },
        {
          "output_type": "display_data",
          "data": {
            "text/plain": [
              "<Figure size 432x288 with 1 Axes>"
            ],
            "image/png": "[encoded data removed]"
          },
          "metadata": {
            "needs_background": "light"
          }
        }
      ]
    },
    {
      "cell_type": "markdown",
      "source": [
        "Assim, vemos que os jogadores tiveram uma regularidade boa em seus clubes, mesmo não sendo o principal jogador em gols, assistências e / ou chances criadas, mas sim complementando e jogando em alto nivel em suas posições e clubes. Dá para explificar 3 melhores jogadores se baseando no rating , Vinicius Junior, Neymar, Antony, sendo muito regulares e até sendo protagonista em alguns jogos."
      ],
      "metadata": {
        "id": "vzYQhwODvUl9"
      }
    },
    {
      "cell_type": "markdown",
      "source": [
        "#### Sucesso de dribles.\n",
        "\n"
      ],
      "metadata": {
        "id": "kJacjpSHFMUV"
      }
    },
    {
      "cell_type": "code",
      "source": [
        "#Sucesso de dribles\n",
        "plyCopy['succDribbles'].plot.bar(title= \"Sucesso de dibles\")"
      ],
      "metadata": {
        "colab": {
          "base_uri": "https://localhost:8080/",
          "height": 333
        },
        "id": "oLCvJZjJFgot",
        "outputId": "d937dec5-8f61-4d5a-fd90-36a5e99df577"
      },
      "execution_count": null,
      "outputs": [
        {
          "output_type": "execute_result",
          "data": {
            "text/plain": [
              "<matplotlib.axes._subplots.AxesSubplot at 0x7fe777a2c950>"
            ]
          },
          "metadata": {},
          "execution_count": 83
        },
        {
          "output_type": "display_data",
          "data": {
            "text/plain": [
              "<Figure size 432x288 with 1 Axes>"
            ],
            "image/png": "[encoded data removed]"
          },
          "metadata": {
            "needs_background": "light"
          }
        }
      ]
    },
    {
      "cell_type": "markdown",
      "source": [
        "Um dado muito importante , apesar que nem sempre é um resultado de um gol ou assistência. Necessario para darmos impactos contra uma defesa muito fechada , mostrar o nosso futebol , enfim umm dado muito importante para um ataque que queira ser chamado de completo. Vinicius Junior,por ter uma caracteristica fisica e forma de jogar , fez uma temporada acima dos demais. "
      ],
      "metadata": {
        "id": "hMwi25NFv-aK"
      }
    },
    {
      "cell_type": "markdown",
      "source": [
        "#### Partidas iniciadas.\n"
      ],
      "metadata": {
        "id": "whHEYeemuRrf"
      }
    },
    {
      "cell_type": "markdown",
      "source": [
        "Dado importante, pois sendo titular é o primeiro passo a sucesso de um jogador, o que acontece a pos , dai é exclusivamente de cada jogador."
      ],
      "metadata": {
        "id": "itrgn1CewZKO"
      }
    },
    {
      "cell_type": "code",
      "source": [
        "# Partidas iniciadas \n",
        "plyCopy['start'].plot.barh(title= \"Partidas que iniciou no titular\")"
      ],
      "metadata": {
        "colab": {
          "base_uri": "https://localhost:8080/",
          "height": 298
        },
        "id": "M1B8v-KCFrwb",
        "outputId": "dc6113f7-17e3-4b35-bb7c-a35adf188f70"
      },
      "execution_count": null,
      "outputs": [
        {
          "output_type": "execute_result",
          "data": {
            "text/plain": [
              "<matplotlib.axes._subplots.AxesSubplot at 0x7fe7779b7310>"
            ]
          },
          "metadata": {},
          "execution_count": 84
        },
        {
          "output_type": "display_data",
          "data": {
            "text/plain": [
              "<Figure size 432x288 with 1 Axes>"
            ],
            "image/png": "[encoded data removed]"
          },
          "metadata": {
            "needs_background": "light"
          }
        }
      ]
    },
    {
      "cell_type": "markdown",
      "source": [
        "#### Duelos ganhos.\n"
      ],
      "metadata": {
        "id": "utO5kBVwuXJ9"
      }
    },
    {
      "cell_type": "code",
      "source": [
        "# Duelos ganhos\n",
        "plyCopy['totalDuelWon'].plot.bar(title = \"Duelos ganhos contra adv. em partidas\")"
      ],
      "metadata": {
        "colab": {
          "base_uri": "https://localhost:8080/",
          "height": 333
        },
        "id": "9n8sSfaRHOJB",
        "outputId": "2ea948e5-7247-407d-91a7-907059b4bab9"
      },
      "execution_count": null,
      "outputs": [
        {
          "output_type": "execute_result",
          "data": {
            "text/plain": [
              "<matplotlib.axes._subplots.AxesSubplot at 0x7fe7778c3690>"
            ]
          },
          "metadata": {},
          "execution_count": 85
        },
        {
          "output_type": "display_data",
          "data": {
            "text/plain": [
              "<Figure size 432x288 with 1 Axes>"
            ],
            "image/png": "[encoded data removed]"
          },
          "metadata": {
            "needs_background": "light"
          }
        }
      ]
    },
    {
      "cell_type": "markdown",
      "source": [
        "#### Melhor em campo.\n"
      ],
      "metadata": {
        "id": "trfJjTBPuZkS"
      }
    },
    {
      "cell_type": "markdown",
      "source": [
        "Recompensa de cada jogador a pós um grande jogo, dado pela empresa da competição no jogo em especifico. Mais uma vez, vemos Vinicius Junior como protagonista."
      ],
      "metadata": {
        "id": "hNlkgefcwroB"
      }
    },
    {
      "cell_type": "code",
      "source": [
        "# Melhor em campo\n",
        "plyCopy['bestInMatch'].plot.bar(title = \"Melhor em campo\")"
      ],
      "metadata": {
        "colab": {
          "base_uri": "https://localhost:8080/",
          "height": 333
        },
        "id": "IOfK8-FDHhzd",
        "outputId": "777d11e8-5de0-4eaf-ebc1-2908c760bdd8"
      },
      "execution_count": null,
      "outputs": [
        {
          "output_type": "execute_result",
          "data": {
            "text/plain": [
              "<matplotlib.axes._subplots.AxesSubplot at 0x7fe7778ab5d0>"
            ]
          },
          "metadata": {},
          "execution_count": 86
        },
        {
          "output_type": "display_data",
          "data": {
            "text/plain": [
              "<Figure size 432x288 with 1 Axes>"
            ],
            "image/png": "[encoded data removed]"
          },
          "metadata": {
            "needs_background": "light"
          }
        }
      ]
    },
    {
      "cell_type": "markdown",
      "source": [
        "# Conclusão\n"
      ],
      "metadata": {
        "id": "O2vGisZPtYl-"
      }
    },
    {
      "cell_type": "markdown",
      "source": [
        "Destaque para Vinicius Junior , do Real madrid. Esse jogador pode não ter mais gols que alguns atacantes escolhidos, mas em suma é o jogador que mais teve impacto, sucessos, progressos no temporada de 21/22. Logo, podemos dizer que é necessario que ele esteja , como titular e convocadissimo na copa de 2022.\n",
        "<center><img src=\"https://pbs.twimg.com/media/FI7lICVWUAEfEdw?format=jpg&name=4096x4096\"\n",
        "      width=\"200\" \n",
        "     height=\"200\"  ></center>"
      ],
      "metadata": {
        "id": "vPuqe1jaw9Bd"
      }
    },
    {
      "cell_type": "markdown",
      "source": [
        "Como podemos observar em cada grafico, há jogadores do brasil que se destacam em uma coisa , outros aspectos diferentes, que resultam em ações diferentes e impactos distintos a cada jogo e a seus clubes. Por fim, é explicito que os nomes aqui podem ou não podem aparecer na lista final da seleção brasileira. Porém se baseando em uma temporada completa, estes foram os jogadores que tiveram destaques em seus clubes, com sucessos e insucessos da temporada."
      ],
      "metadata": {
        "id": "1Vc0b_Cfte9k"
      }
    }
  ]
}